{
  "nbformat": 4,
  "nbformat_minor": 0,
  "metadata": {
    "colab": {
      "provenance": []
    },
    "kernelspec": {
      "name": "python3",
      "display_name": "Python 3"
    },
    "language_info": {
      "name": "python"
    }
  },
  "cells": [
    {
      "cell_type": "code",
      "execution_count": null,
      "metadata": {
        "colab": {
          "base_uri": "https://localhost:8080/"
        },
        "id": "lGtS3bmeeiO0",
        "outputId": "9636b79d-2369-4a6e-94b5-58530d32e56d"
      },
      "outputs": [
        {
          "output_type": "stream",
          "name": "stdout",
          "text": [
            "['January', 'February', 'March', 'April', 'May']\n"
          ]
        }
      ],
      "source": [
        "# LIST (A collection of items that are ordered, mutable (changable), and allow duplicate values)\n",
        "\n",
        "months = [\"January\", \"February\", \"March\", \"April\"]\n",
        "\n",
        "# Replace list:\n",
        "months[1] = \"December\"\n",
        "print(months)                # output => ['January', 'December', 'March', 'April']\n",
        "\n",
        "# Add month by using concatination:\n",
        "months = months + [\"May\"]    # output => ['January', 'February', 'March', 'April', 'May']\n",
        "print(months)\n",
        "\n",
        "# anoher method to add list by using extend method:\n",
        "months.extend([\"May\"])\n",
        "months                      # output => ['January', 'February', 'March', 'April', 'May']"
      ]
    },
    {
      "cell_type": "code",
      "source": [
        "# TUPLE (Read only/It is like a list,it's immutable (cannot be changed).Once you create a tuple,you can't add,remove,or modify (update) its elements)\n",
        "\n",
        "User =(\"Sabreena\", 28, \"Govt. House\", 123456)\n",
        "# print complete tuple:\n",
        "print(User)                       # output => ('Sabreena', 28, 'Govt House', '123456')\n",
        "\n",
        "# Excess tuple through indexing:\n",
        "print(User[1])                    # output => 28\n",
        "print(User[2])                    # output => Govt. House\n",
        "\n",
        "# To check the type of tuple:\n",
        "print(type(User))                 # output => <class 'tuple'>\n",
        "\n",
        "#Join sentence by using f-string:\n",
        "print(f\"My name is {User[0]}, My age is {User[1]}, I studied in {User[2]} & My Rollno is {User[3]}.\")\n",
        "# output => My name is Sabreena, My age is 28, I studied in Govt. House & My Rollno is 123456.\n",
        "\n",
        "# Tuple Method (2 methods)\n",
        "Giaic = (\"Assignments\", \"Quizes\", \"Ramadan Coding Night\", \"Assignments\")\n",
        "print(Giaic.count(\"Ramadan Coding Night\"))       # output => 1\n",
        "print(Giaic.index(\"Assignments\"))                # output => 0 (Will return the index of the first occurrence.)"
      ],
      "metadata": {
        "colab": {
          "base_uri": "https://localhost:8080/"
        },
        "id": "oB3G7anpiyii",
        "outputId": "b70948b1-563d-49ff-d98b-10750cc94b80"
      },
      "execution_count": null,
      "outputs": [
        {
          "output_type": "stream",
          "name": "stdout",
          "text": [
            "1\n",
            "0\n"
          ]
        }
      ]
    },
    {
      "cell_type": "code",
      "source": [
        "# DICTIONARY (A collection of data stored in key-value pairs.Each key is unique, and it is used to access its associated value)\n",
        "\n",
        "User = {\n",
        "    \"name\":\"Safa\",\n",
        "    \"lName\": \"Zafar\",\n",
        "    \"age\": 20,\n",
        "    \"hobbies\": [\"Cricket\",\"Painting\",\"Gaming\"]\n",
        "}\n",
        "print(User)                # output => {'name': 'Safa', 'lName': 'Zafar', 'age': 20, 'hobbies': ['Cricket', 'Painting', 'Gaming']}\n",
        "print(User[\"hobbies\"])     # output => ['Cricket', 'Painting', 'Gaming']\n",
        "print(User['hobbies'][2])  # output => Gaming\n",
        "\n",
        "#Update value:\n",
        "User[\"age\"] = 21\n",
        "print(User[\"age\"])         # output => 21\n",
        "\n",
        "# NESTED DICTIONARY:\n",
        "Person = {\n",
        "    \"Qayyum\": {\n",
        "        \"Office\": \"Canadian Groque Margexx\",\n",
        "        \"Address\": \"Canada_gemini Society\"\n",
        "    }\n",
        "}\n",
        "print(Person)               # output => {'Qayyum': {'Office': 'Canadian Groque Margexx', 'Address': 'Canada_gemini Society'}}\n",
        "print(Person[\"Qayyum\"])     # output => {'Office': 'Canadian Groque Margexx', 'Address': 'Canada_gemini Society'}\n",
        "print(Person[\"Qayyum\"][\"Address\"])   # output => Canada_gemini Society"
      ],
      "metadata": {
        "colab": {
          "base_uri": "https://localhost:8080/"
        },
        "id": "kfL6yGhGvJDF",
        "outputId": "47a667dd-b6c0-4e6b-e606-6d09318b1de4"
      },
      "execution_count": null,
      "outputs": [
        {
          "output_type": "stream",
          "name": "stdout",
          "text": [
            "{'Qayyum': {'Office': 'Canadian Groque Margexx', 'Address': 'Canada_gemini Society'}}\n"
          ]
        }
      ]
    }
  ]
}